{
 "cells": [
  {
   "cell_type": "markdown",
   "metadata": {},
   "source": [
    "# --      UNIVERSIDADE FEDERAL DO RIO GRANDE DO NORTE      --  % \n",
    "#  --        DEB0804: Processamento Digital de Sinais       --  % \n",
    "#  --                  Prof. Ernano Arrais                  --  % \n",
    "#  -- Laborat�rio 1: Conhecimentos b�sicos acerca do MatLab --  %\n",
    "#  -----------------------------------------------------------  %"
   ]
  },
  {
   "cell_type": "code",
   "execution_count": 22,
   "metadata": {},
   "outputs": [],
   "source": [
    "import numpy as np\n",
    "import sympy as sp\n",
    "import matplotlib.pyplot as plt"
   ]
  },
  {
   "cell_type": "code",
   "execution_count": 23,
   "metadata": {},
   "outputs": [],
   "source": [
    "# 1. Declaração de Variáveis\n",
    "t_x = 2\n",
    "t_y = 3\n",
    "t_z = input(\"Digite o valor da variável z: \\n\")"
   ]
  },
  {
   "cell_type": "code",
   "execution_count": 24,
   "metadata": {},
   "outputs": [],
   "source": [
    "# 2. Vetores e Matrizes\n",
    "a = np.array([1, 2, 3])\n",
    "b = np.array([3, 2, 1])\n",
    "A1 = np.concatenate((a, b))  # Concatenando vetores\n",
    "B1 = np.concatenate((b, a))\n",
    "C = np.array([1, 2, 3, 3, 2, 1, 1, 0, 3])\n",
    "\n",
    "# Operações\n",
    "ab = a + b  # Soma elemento a elemento\n",
    "ab1 = a * b  # Multiplicação elemento a elemento\n",
    "ab2 = np.dot(a, b)  # Produto escalar\n",
    "Ct = C.reshape(-1, 3).T  # Transposição da matriz C\n",
    "# C_inv = np.linalg.inv(C)  # Não é possível inverter um vetor\n",
    "C_det = np.linalg.det(C.reshape(3, 3))\n",
    "D = np.zeros((2, 3))\n",
    "E = np.ones((5, 3))\n",
    "F = np.eye(2)\n",
    "L, C = E.shape\n",
    "\n",
    "# Criando vetor com passo especificado\n",
    "i = np.arange(0, 11, 1)\n",
    "\n",
    "# Resolvendo sistema Ax = b\n",
    "A = np.array([[1, 2], [0, 1]])\n",
    "b = np.array([1, 0])\n",
    "x1 = np.linalg.solve(A, b)\n",
    "x2 = np.dot(np.linalg.inv(A), b)\n"
   ]
  },
  {
   "cell_type": "code",
   "execution_count": 25,
   "metadata": {},
   "outputs": [
    {
     "name": "stdout",
     "output_type": "stream",
     "text": [
      " 2        \n",
      "x  + x - 2\n",
      "──────────\n",
      " 2⋅x + 1  \n"
     ]
    }
   ],
   "source": [
    "# 3. Polinômios\n",
    "p = np.array([1, 1, -2])\n",
    "raizes = np.roots(p)\n",
    "valor_p0 = np.polyval(p, 0)\n",
    "\n",
    "p1 = np.array([1, 1, -2])\n",
    "p2 = np.array([1, -3, 2])\n",
    "p1p2 = np.convolve(p1, p2)\n",
    "q, r = np.polydiv(p1, p2)\n",
    "\n",
    "# Variáveis simbólicas\n",
    "x = sp.Symbol('x')\n",
    "pol1 = x**2 + x - 2\n",
    "pol2 = 2*x + 1\n",
    "J = pol1 + pol2\n",
    "K = pol1 - pol2\n",
    "L = pol1 * pol2\n",
    "M = sp.simplify(pol1 / pol2)\n",
    "sp.pprint(M)\n",
    "\n",
    "v1 = sp.Poly(pol2, x).all_coeffs()\n",
    "s1 = sp.expand(pol2)"
   ]
  },
  {
   "cell_type": "code",
   "execution_count": 26,
   "metadata": {},
   "outputs": [
    {
     "ename": "KeyboardInterrupt",
     "evalue": "Interrupted by user",
     "output_type": "error",
     "traceback": [
      "\u001b[1;31m---------------------------------------------------------------------------\u001b[0m",
      "\u001b[1;31mKeyboardInterrupt\u001b[0m                         Traceback (most recent call last)",
      "Cell \u001b[1;32mIn[26], line 2\u001b[0m\n\u001b[0;32m      1\u001b[0m \u001b[38;5;66;03m# 4. Estruturas de repetição e controle de fluxo\u001b[39;00m\n\u001b[1;32m----> 2\u001b[0m test \u001b[38;5;241m=\u001b[39m \u001b[38;5;28mint\u001b[39m(\u001b[38;5;28;43minput\u001b[39;49m\u001b[43m(\u001b[49m\u001b[38;5;124;43m\"\u001b[39;49m\u001b[38;5;124;43mDigite [1] para soma, [2] para subtração, [3] para multiplicação e [4] para divisão \u001b[39;49m\u001b[38;5;130;43;01m\\n\u001b[39;49;00m\u001b[38;5;124;43m\"\u001b[39;49m\u001b[43m)\u001b[49m)\n\u001b[0;32m      3\u001b[0m va \u001b[38;5;241m=\u001b[39m \u001b[38;5;241m1\u001b[39m\n\u001b[0;32m      4\u001b[0m vb \u001b[38;5;241m=\u001b[39m \u001b[38;5;241m2\u001b[39m\n",
      "File \u001b[1;32m~\\AppData\\Roaming\\Python\\Python312\\site-packages\\ipykernel\\kernelbase.py:1282\u001b[0m, in \u001b[0;36mKernel.raw_input\u001b[1;34m(self, prompt)\u001b[0m\n\u001b[0;32m   1280\u001b[0m     msg \u001b[38;5;241m=\u001b[39m \u001b[38;5;124m\"\u001b[39m\u001b[38;5;124mraw_input was called, but this frontend does not support input requests.\u001b[39m\u001b[38;5;124m\"\u001b[39m\n\u001b[0;32m   1281\u001b[0m     \u001b[38;5;28;01mraise\u001b[39;00m StdinNotImplementedError(msg)\n\u001b[1;32m-> 1282\u001b[0m \u001b[38;5;28;01mreturn\u001b[39;00m \u001b[38;5;28;43mself\u001b[39;49m\u001b[38;5;241;43m.\u001b[39;49m\u001b[43m_input_request\u001b[49m\u001b[43m(\u001b[49m\n\u001b[0;32m   1283\u001b[0m \u001b[43m    \u001b[49m\u001b[38;5;28;43mstr\u001b[39;49m\u001b[43m(\u001b[49m\u001b[43mprompt\u001b[49m\u001b[43m)\u001b[49m\u001b[43m,\u001b[49m\n\u001b[0;32m   1284\u001b[0m \u001b[43m    \u001b[49m\u001b[38;5;28;43mself\u001b[39;49m\u001b[38;5;241;43m.\u001b[39;49m\u001b[43m_parent_ident\u001b[49m\u001b[43m[\u001b[49m\u001b[38;5;124;43m\"\u001b[39;49m\u001b[38;5;124;43mshell\u001b[39;49m\u001b[38;5;124;43m\"\u001b[39;49m\u001b[43m]\u001b[49m\u001b[43m,\u001b[49m\n\u001b[0;32m   1285\u001b[0m \u001b[43m    \u001b[49m\u001b[38;5;28;43mself\u001b[39;49m\u001b[38;5;241;43m.\u001b[39;49m\u001b[43mget_parent\u001b[49m\u001b[43m(\u001b[49m\u001b[38;5;124;43m\"\u001b[39;49m\u001b[38;5;124;43mshell\u001b[39;49m\u001b[38;5;124;43m\"\u001b[39;49m\u001b[43m)\u001b[49m\u001b[43m,\u001b[49m\n\u001b[0;32m   1286\u001b[0m \u001b[43m    \u001b[49m\u001b[43mpassword\u001b[49m\u001b[38;5;241;43m=\u001b[39;49m\u001b[38;5;28;43;01mFalse\u001b[39;49;00m\u001b[43m,\u001b[49m\n\u001b[0;32m   1287\u001b[0m \u001b[43m\u001b[49m\u001b[43m)\u001b[49m\n",
      "File \u001b[1;32m~\\AppData\\Roaming\\Python\\Python312\\site-packages\\ipykernel\\kernelbase.py:1325\u001b[0m, in \u001b[0;36mKernel._input_request\u001b[1;34m(self, prompt, ident, parent, password)\u001b[0m\n\u001b[0;32m   1322\u001b[0m \u001b[38;5;28;01mexcept\u001b[39;00m \u001b[38;5;167;01mKeyboardInterrupt\u001b[39;00m:\n\u001b[0;32m   1323\u001b[0m     \u001b[38;5;66;03m# re-raise KeyboardInterrupt, to truncate traceback\u001b[39;00m\n\u001b[0;32m   1324\u001b[0m     msg \u001b[38;5;241m=\u001b[39m \u001b[38;5;124m\"\u001b[39m\u001b[38;5;124mInterrupted by user\u001b[39m\u001b[38;5;124m\"\u001b[39m\n\u001b[1;32m-> 1325\u001b[0m     \u001b[38;5;28;01mraise\u001b[39;00m \u001b[38;5;167;01mKeyboardInterrupt\u001b[39;00m(msg) \u001b[38;5;28;01mfrom\u001b[39;00m \u001b[38;5;28;01mNone\u001b[39;00m\n\u001b[0;32m   1326\u001b[0m \u001b[38;5;28;01mexcept\u001b[39;00m \u001b[38;5;167;01mException\u001b[39;00m:\n\u001b[0;32m   1327\u001b[0m     \u001b[38;5;28mself\u001b[39m\u001b[38;5;241m.\u001b[39mlog\u001b[38;5;241m.\u001b[39mwarning(\u001b[38;5;124m\"\u001b[39m\u001b[38;5;124mInvalid Message:\u001b[39m\u001b[38;5;124m\"\u001b[39m, exc_info\u001b[38;5;241m=\u001b[39m\u001b[38;5;28;01mTrue\u001b[39;00m)\n",
      "\u001b[1;31mKeyboardInterrupt\u001b[0m: Interrupted by user"
     ]
    }
   ],
   "source": [
    "# 4. Estruturas de repetição e controle de fluxo\n",
    "test = int(input(\"Digite [1] para soma, [2] para subtração, [3] para multiplicação e [4] para divisão \\n\"))\n",
    "va = 1\n",
    "vb = 2\n",
    "\n",
    "if test == 1:\n",
    "    sol = va + vb\n",
    "elif test == 2:\n",
    "    sol = va - vb\n",
    "    print(sol)\n",
    "elif test == 3:\n",
    "    sol = va * vb\n",
    "    print(f\"O resultado desta operação é {sol}\")\n",
    "else:\n",
    "    sol = va / vb\n",
    "    print(sol)\n",
    "\n",
    "# Laço for\n",
    "g = []\n",
    "for k in range(1, 11):\n",
    "    g.append(2 * k)\n",
    "\n",
    "i = 0\n",
    "f = 1\n",
    "while i < 5:\n",
    "    f = 2 * f\n",
    "    i += 1"
   ]
  },
  {
   "cell_type": "code",
   "execution_count": null,
   "metadata": {},
   "outputs": [],
   "source": [
    "# 5. Gráficos\n",
    "A = 10\n",
    "f0 = 60\n",
    "TA = 0.01\n",
    "t = np.linspace(0, 10, 100)\n",
    "y = A * np.sin(2 * np.pi * f0 * t)\n",
    "z = A * np.cos(2 * np.pi * f0 * t)\n",
    "\n",
    "plt.subplot(2, 2, 1)\n",
    "plt.plot(t, y)\n",
    "plt.xlabel(\"tempo\")\n",
    "plt.ylabel(\"amplitude\")\n",
    "plt.legend([\"Função Seno\"])\n",
    "\n",
    "plt.subplot(2, 2, 2)\n",
    "plt.plot(t, z)\n",
    "plt.xlabel(\"tempo\")\n",
    "plt.ylabel(\"amplitude\")\n",
    "plt.legend([\"Função Cosseno\"])\n",
    "\n",
    "plt.subplot(2, 2, 3)\n",
    "plt.stem(t, y)\n",
    "plt.xlabel(\"tempo\")\n",
    "plt.ylabel(\"amplitude\")\n",
    "plt.legend([\"Função Seno\"])\n",
    "\n",
    "plt.subplot(2, 2, 4)\n",
    "plt.stem(t, z)\n",
    "plt.xlabel(\"tempo\")\n",
    "plt.ylabel(\"amplitude\")\n",
    "plt.legend([\"Função Cosseno\"])\n",
    "\n",
    "plt.show()\n"
   ]
  }
 ],
 "metadata": {
  "kernelspec": {
   "display_name": "Python 3",
   "language": "python",
   "name": "python3"
  },
  "language_info": {
   "codemirror_mode": {
    "name": "ipython",
    "version": 3
   },
   "file_extension": ".py",
   "mimetype": "text/x-python",
   "name": "python",
   "nbconvert_exporter": "python",
   "pygments_lexer": "ipython3",
   "version": "3.12.8"
  }
 },
 "nbformat": 4,
 "nbformat_minor": 2
}
